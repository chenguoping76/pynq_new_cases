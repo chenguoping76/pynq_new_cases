{
 "cells": [
  {
   "cell_type": "markdown",
   "id": "4e856dc4-ff15-43a7-84d3-5e8bc78d18f3",
   "metadata": {},
   "source": [
    "# 使用dash 在pynq3.0.1环境实时数据显示  \n",
    "\n",
    "## 应升级以下3个包：   \n",
    "python -m pip install --upgrade typing-extensions    由4.3.0 升级到 4.12.2   \n",
    "python -m pip install --upgrade dash                 由2.6.0 升级到 3.0.0   \n",
    "python -m pip install --upgrade plotly               由5.9.0 升级到 5.24.1\n",
    "\n",
    "## 参考以下链接   \n",
    "https://stackoverflow.com/questions/63589249/plotly-dash-display-real-time-data-in-smooth-animation"
   ]
  },
  {
   "cell_type": "code",
   "execution_count": 1,
   "id": "0ee4a1f4-daf8-4cc4-9baa-957125e9ef52",
   "metadata": {},
   "outputs": [
    {
     "data": {
      "text/html": [
       "\n",
       "        <iframe\n",
       "            width=\"100%\"\n",
       "            height=\"650\"\n",
       "            src=\"http://10.168.2.134:8051/\"\n",
       "            frameborder=\"0\"\n",
       "            allowfullscreen\n",
       "            \n",
       "        ></iframe>\n",
       "        "
      ],
      "text/plain": [
       "<IPython.lib.display.IFrame at 0xffff7bd85150>"
      ]
     },
     "metadata": {},
     "output_type": "display_data"
    }
   ],
   "source": [
    "import dash\n",
    "from dash import html\n",
    "from dash import dcc\n",
    "import numpy as np\n",
    "\n",
    "from dash.dependencies import Input, Output\n",
    "\n",
    "# Example data (a circle).\n",
    "resolution = 20\n",
    "t = np.linspace(0, np.pi * 2, resolution)\n",
    "x, y = np.cos(t), np.sin(t)\n",
    "# Example app.\n",
    "figure = dict(data=[{'x': [], 'y': []}], layout=dict(xaxis=dict(range=[-1, 1]), yaxis=dict(range=[-1, 1])))\n",
    "app = dash.Dash(__name__, update_title=None)  # remove \"Updating...\" from title\n",
    "app.layout = html.Div([dcc.Graph(id='graph', figure=figure), dcc.Interval(id=\"interval\")])\n",
    "\n",
    "\n",
    "@app.callback(Output('graph', 'extendData'), [Input('interval', 'n_intervals')])\n",
    "def update_data(n_intervals):\n",
    "    if n_intervals is not None:\n",
    "        index = n_intervals % resolution\n",
    "        # tuple is (dict of new data, target trace index, number of points to keep)\n",
    "        return dict(x=[[x[index]]], y=[[y[index]]]), [0], 10\n",
    "\n",
    "\n",
    "if __name__ == '__main__':\n",
    "    # 10.168.2.134 远程 ip\n",
    "    app.run(host='10.168.2.134', port=8051, debug=True)"
   ]
  },
  {
   "cell_type": "code",
   "execution_count": 2,
   "id": "5c80bdee-4aa1-476c-bb28-d96e06da73aa",
   "metadata": {},
   "outputs": [
    {
     "data": {
      "text/html": [
       "\n",
       "        <iframe\n",
       "            width=\"100%\"\n",
       "            height=\"650\"\n",
       "            src=\"http://10.168.2.134:8052/\"\n",
       "            frameborder=\"0\"\n",
       "            allowfullscreen\n",
       "            \n",
       "        ></iframe>\n",
       "        "
      ],
      "text/plain": [
       "<IPython.lib.display.IFrame at 0xffff7a402200>"
      ]
     },
     "metadata": {},
     "output_type": "display_data"
    }
   ],
   "source": [
    "import dash\n",
    "from dash import html\n",
    "from dash import dcc\n",
    "import numpy as np\n",
    "\n",
    "from dash.dependencies import Input, Output, State\n",
    "\n",
    "# Example data (a circle).\n",
    "resolution = 1000\n",
    "t = np.linspace(0, np.pi * 2, resolution)\n",
    "x, y = np.cos(t), np.sin(t)\n",
    "# Example app.\n",
    "figure = dict(data=[{'x': [], 'y': []}], layout=dict(xaxis=dict(range=[-1, 1]), yaxis=dict(range=[-1, 1])))\n",
    "app = dash.Dash(__name__, update_title=None)  # remove \"Updating...\" from title\n",
    "app.layout = html.Div([\n",
    "    dcc.Graph(id='graph', figure=dict(figure)), dcc.Interval(id=\"interval\", interval=25),\n",
    "    dcc.Store(id='offset', data=0), dcc.Store(id='store', data=dict(x=x, y=y, resolution=resolution)),\n",
    "])\n",
    "app.clientside_callback(\n",
    "    \"\"\"\n",
    "    function (n_intervals, data, offset) {\n",
    "        offset = offset % data.x.length;\n",
    "        const end = Math.min((offset + 10), data.x.length);\n",
    "        return [[{x: [data.x.slice(offset, end)], y: [data.y.slice(offset, end)]}, [0], 500], end]\n",
    "    }\n",
    "    \"\"\",\n",
    "    [Output('graph', 'extendData'), Output('offset', 'data')],\n",
    "    [Input('interval', 'n_intervals')], [State('store', 'data'), State('offset', 'data')]\n",
    ")\n",
    "\n",
    "if __name__ == '__main__':\n",
    "    app.run(host='10.168.2.134', port=8052, debug=True)"
   ]
  },
  {
   "cell_type": "code",
   "execution_count": 6,
   "id": "b91950eb-fb49-4e54-9ce1-cbdb9e565c44",
   "metadata": {},
   "outputs": [
    {
     "data": {
      "text/html": [
       "\n",
       "        <iframe\n",
       "            width=\"100%\"\n",
       "            height=\"650\"\n",
       "            src=\"http://10.168.2.134:8069/\"\n",
       "            frameborder=\"0\"\n",
       "            allowfullscreen\n",
       "            \n",
       "        ></iframe>\n",
       "        "
      ],
      "text/plain": [
       "<IPython.lib.display.IFrame at 0xffff60386f80>"
      ]
     },
     "metadata": {},
     "output_type": "display_data"
    }
   ],
   "source": [
    "import pandas as pd\n",
    "import numpy as np\n",
    "import plotly.express as px\n",
    "import plotly.graph_objects as go\n",
    "from jupyter_dash import JupyterDash\n",
    "from dash import dcc\n",
    "from dash import html\n",
    "from dash.dependencies import Input, Output\n",
    "\n",
    "# code and plot setup\n",
    "# settings\n",
    "pd.options.plotting.backend = \"plotly\"\n",
    "countdown = 20\n",
    "#global df\n",
    "\n",
    "# sample dataframe of a wide format\n",
    "np.random.seed(4); cols = list('abc')\n",
    "X = np.random.randn(50,len(cols))  \n",
    "df=pd.DataFrame(X, columns=cols)\n",
    "df.iloc[0]=0;\n",
    "\n",
    "# plotly figure\n",
    "fig = df.plot(template = 'plotly_dark')\n",
    "\n",
    "app = JupyterDash(__name__)\n",
    "app.layout = html.Div([\n",
    "    html.H1(\"Streaming of random data\"),\n",
    "            dcc.Interval(\n",
    "            id='interval-component',\n",
    "            interval=1*1000, # in milliseconds\n",
    "            n_intervals=0\n",
    "        ),\n",
    "    dcc.Graph(id='graph'),\n",
    "])\n",
    "\n",
    "#Define callback to update graph\n",
    "@app.callback(\n",
    "    Output('graph', 'figure'),\n",
    "    [Input('interval-component', \"n_intervals\")]\n",
    ")\n",
    "def streamFig(value):\n",
    "    \n",
    "    global df\n",
    "    \n",
    "    Y = np.random.randn(1,len(cols))  \n",
    "    df2 = pd.DataFrame(Y, columns = cols)\n",
    "    df = df.append(df2, ignore_index=True)#.reset_index()\n",
    "    df.tail()\n",
    "    df3=df.copy()\n",
    "    df3 = df3.cumsum()\n",
    "    fig = df3.plot(template = 'plotly_dark')\n",
    "    #fig.show()\n",
    "    return(fig)\n",
    "\n",
    "app.run(host='10.168.2.134', mode='external', port = 8069, dev_tools_ui=True, #debug=True,\n",
    "              dev_tools_hot_reload =True, threaded=True)"
   ]
  },
  {
   "cell_type": "code",
   "execution_count": 23,
   "id": "da0e1d39-3240-4ebd-983a-6d22e3a84a68",
   "metadata": {},
   "outputs": [
    {
     "data": {
      "text/html": [
       "\n",
       "        <iframe\n",
       "            width=\"100%\"\n",
       "            height=\"650\"\n",
       "            src=\"http://10.168.2.134:8070/\"\n",
       "            frameborder=\"0\"\n",
       "            allowfullscreen\n",
       "            \n",
       "        ></iframe>\n",
       "        "
      ],
      "text/plain": [
       "<IPython.lib.display.IFrame at 0xffff78f83b50>"
      ]
     },
     "metadata": {},
     "output_type": "display_data"
    }
   ],
   "source": [
    "import dash\n",
    "from dash.dependencies import Output, Input\n",
    "from dash import dcc\n",
    "from dash import html\n",
    "import plotly\n",
    "import random\n",
    "import plotly.graph_objs as go\n",
    "from collections import deque\n",
    "\n",
    "X = deque(maxlen=32)\n",
    "X.append(1)\n",
    "Y = deque(maxlen=32)\n",
    "Y.append(1)\n",
    "\n",
    "\n",
    "app = dash.Dash(__name__)\n",
    "app.layout = html.Div(\n",
    "    [\n",
    "        dcc.Graph(id='live-graph', animate=False),\n",
    "        dcc.Interval(\n",
    "            id='graph-update',\n",
    "            interval=1*40\n",
    "        ),\n",
    "    ]\n",
    ")\n",
    "\n",
    "@app.callback(Output('live-graph', 'figure'),\n",
    "              [Input('graph-update', 'n_intervals')])\n",
    "def update_graph_scatter(input_data):\n",
    "    X.append(X[-1]+1)\n",
    "    Y.append(Y[-1]+Y[-1]*random.uniform(-0.1,0.1))\n",
    "\n",
    "    data = plotly.graph_objs.Scatter(\n",
    "            x=list(X),\n",
    "            y=list(Y),\n",
    "            name='Scatter',\n",
    "            mode= 'lines+markers'\n",
    "            )\n",
    "\n",
    "    return {'data': [data],'layout' : go.Layout(xaxis=dict(range=[min(X),max(X)]),\n",
    "                                                yaxis=dict(range=[min(Y),max(Y)]),)}\n",
    "\n",
    "\n",
    "if __name__ == '__main__':\n",
    "    app.run(host='10.168.2.134', port = 8070, debug=True)"
   ]
  },
  {
   "cell_type": "code",
   "execution_count": null,
   "id": "ee029937-ffac-451d-ab7a-a5ccf88f2229",
   "metadata": {},
   "outputs": [],
   "source": []
  }
 ],
 "metadata": {
  "kernelspec": {
   "display_name": "Python 3 (ipykernel)",
   "language": "python",
   "name": "python3"
  },
  "language_info": {
   "codemirror_mode": {
    "name": "ipython",
    "version": 3
   },
   "file_extension": ".py",
   "mimetype": "text/x-python",
   "name": "python",
   "nbconvert_exporter": "python",
   "pygments_lexer": "ipython3",
   "version": "3.10.4"
  }
 },
 "nbformat": 4,
 "nbformat_minor": 5
}
