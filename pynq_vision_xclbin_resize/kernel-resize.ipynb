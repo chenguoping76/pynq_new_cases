{
 "cells": [
  {
   "cell_type": "code",
   "execution_count": 1,
   "id": "c94ac1b5-0c85-4093-9c8b-d639782da9f0",
   "metadata": {},
   "outputs": [],
   "source": [
    "from pynq import Overlay"
   ]
  },
  {
   "cell_type": "code",
   "execution_count": 2,
   "id": "b255b87b-7bb4-4996-9305-ed9f87a7c753",
   "metadata": {},
   "outputs": [
    {
     "data": {
      "application/javascript": [
       "\n",
       "try {\n",
       "require(['notebook/js/codecell'], function(codecell) {\n",
       "  codecell.CodeCell.options_default.highlight_modes[\n",
       "      'magic_text/x-csrc'] = {'reg':[/^%%microblaze/]};\n",
       "  Jupyter.notebook.events.one('kernel_ready.Kernel', function(){\n",
       "      Jupyter.notebook.get_cells().map(function(cell){\n",
       "          if (cell.cell_type == 'code'){ cell.auto_highlight(); } }) ;\n",
       "  });\n",
       "});\n",
       "} catch (e) {};\n"
      ]
     },
     "metadata": {},
     "output_type": "display_data"
    },
    {
     "data": {
      "application/javascript": [
       "\n",
       "try {\n",
       "require(['notebook/js/codecell'], function(codecell) {\n",
       "  codecell.CodeCell.options_default.highlight_modes[\n",
       "      'magic_text/x-csrc'] = {'reg':[/^%%pybind11/]};\n",
       "  Jupyter.notebook.events.one('kernel_ready.Kernel', function(){\n",
       "      Jupyter.notebook.get_cells().map(function(cell){\n",
       "          if (cell.cell_type == 'code'){ cell.auto_highlight(); } }) ;\n",
       "  });\n",
       "});\n",
       "} catch (e) {};\n"
      ]
     },
     "metadata": {},
     "output_type": "display_data"
    }
   ],
   "source": [
    "ol = Overlay('./overlay/krnl_resize.xclbin')"
   ]
  },
  {
   "cell_type": "code",
   "execution_count": 3,
   "id": "749bac75-626a-4f3b-acce-29fc871498c7",
   "metadata": {},
   "outputs": [],
   "source": [
    "krnl_resize = ol.resize_accel_1"
   ]
  },
  {
   "cell_type": "code",
   "execution_count": 4,
   "id": "ac78b0bb-9783-45a9-b079-25e3cbb2013c",
   "metadata": {},
   "outputs": [
    {
     "data": {
      "text/plain": [
       "RegisterMap {\n",
       "  CTRL = Register(AP_START=0, AP_DONE=0, AP_IDLE=1, AP_READY=0, AUTO_RESTART=0, AP_CONTINUE=0),\n",
       "  img_inp = Register(value=0),\n",
       "  img_out = Register(value=0),\n",
       "  rows_in = Register(value=0),\n",
       "  cols_in = Register(value=0),\n",
       "  rows_out = Register(value=0),\n",
       "  cols_out = Register(value=0)\n",
       "}"
      ]
     },
     "execution_count": 4,
     "metadata": {},
     "output_type": "execute_result"
    }
   ],
   "source": [
    "krnl_resize.register_map"
   ]
  },
  {
   "cell_type": "code",
   "execution_count": 5,
   "id": "e9e0ae4f-2ff9-49d8-a4a4-152e719a789d",
   "metadata": {},
   "outputs": [
    {
     "ename": "NameError",
     "evalue": "name '转换为gray' is not defined",
     "output_type": "error",
     "traceback": [
      "\u001b[0;31m---------------------------------------------------------------------------\u001b[0m",
      "\u001b[0;31mNameError\u001b[0m                                 Traceback (most recent call last)",
      "Input \u001b[0;32mIn [5]\u001b[0m, in \u001b[0;36m<cell line: 4>\u001b[0;34m()\u001b[0m\n\u001b[1;32m      2\u001b[0m \u001b[38;5;28;01mimport\u001b[39;00m \u001b[38;5;21;01mnumpy\u001b[39;00m \u001b[38;5;28;01mas\u001b[39;00m \u001b[38;5;21;01mnp\u001b[39;00m\n\u001b[1;32m      3\u001b[0m image_bgr \u001b[38;5;241m=\u001b[39m cv2\u001b[38;5;241m.\u001b[39mimread(\u001b[38;5;124m'\u001b[39m\u001b[38;5;124m./image/sahara.jpg\u001b[39m\u001b[38;5;124m'\u001b[39m)\n\u001b[0;32m----> 4\u001b[0m image_in  \u001b[38;5;241m=\u001b[39m cv2\u001b[38;5;241m.\u001b[39mcvtColor(image_bgr,cv2\u001b[38;5;241m.\u001b[39mCOLOR_BGR2GRAY)   \u001b[38;5;241m/\u001b[39m\u001b[38;5;241m/\u001b[39m \u001b[43m转换为gray\u001b[49m\n\u001b[1;32m      5\u001b[0m \u001b[38;5;28;01mimport\u001b[39;00m \u001b[38;5;21;01mmatplotlib\u001b[39;00m\u001b[38;5;21;01m.\u001b[39;00m\u001b[38;5;21;01mpyplot\u001b[39;00m \u001b[38;5;28;01mas\u001b[39;00m \u001b[38;5;21;01mplt\u001b[39;00m\n\u001b[1;32m      6\u001b[0m plt\u001b[38;5;241m.\u001b[39mimshow(image_in)\n",
      "\u001b[0;31mNameError\u001b[0m: name '转换为gray' is not defined"
     ]
    }
   ],
   "source": [
    "import cv2\n",
    "import numpy as np\n",
    "image_bgr = cv2.imread('./image/sahara.jpg')\n",
    "image_in  = cv2.cvtColor(image_bgr,cv2.COLOR_BGR2GRAY)   # 转换为gray\n",
    "import matplotlib.pyplot as plt\n",
    "plt.imshow(image_in)"
   ]
  },
  {
   "cell_type": "code",
   "execution_count": null,
   "id": "374a2b7b-64b7-441a-b4d0-0ace6378efba",
   "metadata": {},
   "outputs": [],
   "source": [
    "image_in.shape"
   ]
  },
  {
   "cell_type": "code",
   "execution_count": null,
   "id": "3b1212ce-a8d9-43ad-84bd-a45b8139c593",
   "metadata": {},
   "outputs": [],
   "source": [
    "reduce_rate = 2\n",
    "rows_out = int(image_in.shape[0]/reduce_rate)\n",
    "cols_out = int(image_in.shape[1]/reduce_rate)\n",
    "rows_out,cols_out"
   ]
  },
  {
   "cell_type": "code",
   "execution_count": null,
   "id": "97165639-6b49-471f-989c-1af32b9dac02",
   "metadata": {},
   "outputs": [],
   "source": [
    "from pynq import allocate\n",
    "import numpy as np\n",
    "\n",
    "kern_image_in  = allocate(shape=(1*image_in.shape[0] *image_in.shape[1]), dtype=np.uint8)\n",
    "kern_image_out = allocate(shape=(1*rows_out*cols_out), dtype=np.uint8)"
   ]
  },
  {
   "cell_type": "code",
   "execution_count": null,
   "id": "805c49a2-7734-46ba-85e9-1caf4c2066bc",
   "metadata": {},
   "outputs": [],
   "source": [
    "kern_image_in[:] = image_in.reshape(1*image_in.shape[0] * image_in.shape[1])"
   ]
  },
  {
   "cell_type": "code",
   "execution_count": null,
   "id": "45e84526-c7f9-4f25-90b4-1bca62d97ab7",
   "metadata": {},
   "outputs": [],
   "source": [
    "kern_image_in.flush()"
   ]
  },
  {
   "cell_type": "code",
   "execution_count": null,
   "id": "8b79a19a-4da8-404c-833d-f2e23056a92d",
   "metadata": {},
   "outputs": [],
   "source": [
    "kern_image_in"
   ]
  },
  {
   "cell_type": "code",
   "execution_count": null,
   "id": "22562a45-3b65-4305-af9d-0c11f5822e2a",
   "metadata": {},
   "outputs": [],
   "source": [
    "image_in[0,0]"
   ]
  },
  {
   "cell_type": "code",
   "execution_count": null,
   "id": "5a51fd7a-b6cc-4ddc-80b3-3915ff0d3a13",
   "metadata": {},
   "outputs": [],
   "source": [
    "image_in.shape"
   ]
  },
  {
   "cell_type": "code",
   "execution_count": null,
   "id": "5d90da6f-a45f-4628-a15b-fe0340da1d3b",
   "metadata": {},
   "outputs": [],
   "source": [
    "krnl_resize.register_map.img_inp = kern_image_in.physical_address\n",
    "krnl_resize.register_map.img_out = kern_image_out.physical_address\n",
    "krnl_resize.register_map.rows_in = image_in.shape[0]\n",
    "krnl_resize.register_map.cols_in = image_in.shape[1]\n",
    "\n",
    "krnl_resize.register_map.rows_out = rows_out\n",
    "krnl_resize.register_map.cols_out = cols_out"
   ]
  },
  {
   "cell_type": "code",
   "execution_count": null,
   "id": "9ecaddf7-541e-4c1f-9352-06f4aca8b8c3",
   "metadata": {},
   "outputs": [],
   "source": [
    "krnl_resize.register_map.CTRL.AP_DONE"
   ]
  },
  {
   "cell_type": "code",
   "execution_count": null,
   "id": "f6626d76-a102-4e7f-8a0f-60102b63d547",
   "metadata": {},
   "outputs": [],
   "source": [
    "krnl_resize.register_map.CTRL.AP_START = 1"
   ]
  },
  {
   "cell_type": "code",
   "execution_count": null,
   "id": "2a0c25e6-b8b7-43fd-9fb6-943d425a06fc",
   "metadata": {},
   "outputs": [],
   "source": [
    "krnl_resize.register_map.CTRL.AP_DONE"
   ]
  },
  {
   "cell_type": "code",
   "execution_count": null,
   "id": "48cd4ea0-0568-4122-8e9c-9790dad18a78",
   "metadata": {},
   "outputs": [],
   "source": [
    "kern_image_out.invalidate()"
   ]
  },
  {
   "cell_type": "code",
   "execution_count": null,
   "id": "ad9f125f-179f-457f-96d2-fab2dc3262f9",
   "metadata": {},
   "outputs": [],
   "source": [
    "image_out = (np.array(kern_image_out)).reshape(rows_out,cols_out,1)"
   ]
  },
  {
   "cell_type": "code",
   "execution_count": null,
   "id": "8056fe0a-285b-432f-8662-4b6a94fccdd8",
   "metadata": {},
   "outputs": [],
   "source": [
    "plt.imshow(image_out)"
   ]
  },
  {
   "cell_type": "code",
   "execution_count": null,
   "id": "2855252a-73e2-4ccd-862f-3282a5d30b28",
   "metadata": {},
   "outputs": [],
   "source": [
    "image_out.shape"
   ]
  }
 ],
 "metadata": {
  "kernelspec": {
   "display_name": "Python 3 (ipykernel)",
   "language": "python",
   "name": "python3"
  },
  "language_info": {
   "codemirror_mode": {
    "name": "ipython",
    "version": 3
   },
   "file_extension": ".py",
   "mimetype": "text/x-python",
   "name": "python",
   "nbconvert_exporter": "python",
   "pygments_lexer": "ipython3",
   "version": "3.10.4"
  }
 },
 "nbformat": 4,
 "nbformat_minor": 5
}
