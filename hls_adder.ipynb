{
 "cells": [
  {
   "cell_type": "code",
   "execution_count": 1,
   "id": "cc3c1766-a53e-46b9-879a-18eb28ace939",
   "metadata": {},
   "outputs": [],
   "source": [
    "from pynq import Overlay"
   ]
  },
  {
   "cell_type": "code",
   "execution_count": 2,
   "id": "fba7e953-e9a2-4a49-9dac-e58ca7cad63d",
   "metadata": {},
   "outputs": [
    {
     "data": {
      "application/javascript": [
       "\n",
       "try {\n",
       "require(['notebook/js/codecell'], function(codecell) {\n",
       "  codecell.CodeCell.options_default.highlight_modes[\n",
       "      'magic_text/x-csrc'] = {'reg':[/^%%microblaze/]};\n",
       "  Jupyter.notebook.events.one('kernel_ready.Kernel', function(){\n",
       "      Jupyter.notebook.get_cells().map(function(cell){\n",
       "          if (cell.cell_type == 'code'){ cell.auto_highlight(); } }) ;\n",
       "  });\n",
       "});\n",
       "} catch (e) {};\n"
      ]
     },
     "metadata": {},
     "output_type": "display_data"
    },
    {
     "data": {
      "application/javascript": [
       "\n",
       "try {\n",
       "require(['notebook/js/codecell'], function(codecell) {\n",
       "  codecell.CodeCell.options_default.highlight_modes[\n",
       "      'magic_text/x-csrc'] = {'reg':[/^%%pybind11/]};\n",
       "  Jupyter.notebook.events.one('kernel_ready.Kernel', function(){\n",
       "      Jupyter.notebook.get_cells().map(function(cell){\n",
       "          if (cell.cell_type == 'code'){ cell.auto_highlight(); } }) ;\n",
       "  });\n",
       "});\n",
       "} catch (e) {};\n"
      ]
     },
     "metadata": {},
     "output_type": "display_data"
    }
   ],
   "source": [
    "ol = Overlay('hls_adder/adder.bit')"
   ]
  },
  {
   "cell_type": "code",
   "execution_count": 11,
   "id": "148b6c32-f895-48b3-952a-c3d953d5ec1c",
   "metadata": {},
   "outputs": [],
   "source": [
    "# ol.ip_dict"
   ]
  },
  {
   "cell_type": "code",
   "execution_count": 4,
   "id": "e4c4cf96-f01a-4fd9-93ff-25473c476ba7",
   "metadata": {},
   "outputs": [],
   "source": [
    "from pynq import MMIO"
   ]
  },
  {
   "cell_type": "code",
   "execution_count": 5,
   "id": "f50a7902-8143-45b9-b153-2debb8b02e0e",
   "metadata": {},
   "outputs": [],
   "source": [
    "adder = MMIO(0x40000000,0xFFFF)"
   ]
  },
  {
   "cell_type": "code",
   "execution_count": 6,
   "id": "a6f70067-fe11-4fc9-9014-3531c51f1b0f",
   "metadata": {},
   "outputs": [],
   "source": [
    "adder.write(0x10, 10)"
   ]
  },
  {
   "cell_type": "code",
   "execution_count": 7,
   "id": "485a24a0-fd78-46c6-bc64-0a464d3ca33f",
   "metadata": {},
   "outputs": [],
   "source": [
    "adder.write(0x18, 20)"
   ]
  },
  {
   "cell_type": "code",
   "execution_count": 8,
   "id": "a98d0b91-f565-4180-8228-59b61925ca7d",
   "metadata": {},
   "outputs": [],
   "source": [
    "adder.write(0x00,1)"
   ]
  },
  {
   "cell_type": "code",
   "execution_count": 9,
   "id": "be67591a-7650-4b5b-82db-b360e9a7e3f4",
   "metadata": {},
   "outputs": [],
   "source": [
    "c = adder.read(0x20)"
   ]
  },
  {
   "cell_type": "code",
   "execution_count": 10,
   "id": "462c702e-a50a-4b9f-a2c8-0d6a3aa54679",
   "metadata": {},
   "outputs": [
    {
     "data": {
      "text/plain": [
       "30"
      ]
     },
     "execution_count": 10,
     "metadata": {},
     "output_type": "execute_result"
    }
   ],
   "source": [
    "c"
   ]
  }
 ],
 "metadata": {
  "kernelspec": {
   "display_name": "Python 3 (ipykernel)",
   "language": "python",
   "name": "python3"
  },
  "language_info": {
   "codemirror_mode": {
    "name": "ipython",
    "version": 3
   },
   "file_extension": ".py",
   "mimetype": "text/x-python",
   "name": "python",
   "nbconvert_exporter": "python",
   "pygments_lexer": "ipython3",
   "version": "3.10.4"
  }
 },
 "nbformat": 4,
 "nbformat_minor": 5
}
