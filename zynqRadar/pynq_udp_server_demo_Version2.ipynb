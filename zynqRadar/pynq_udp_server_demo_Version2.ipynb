{
 "cells": [
  {
   "cell_type": "markdown",
   "metadata": {},
   "source": [
    "# PYNQ UDP Server Demo\n",
    "\n",
    "本Notebook演示如何在PYNQ平台下，控制雷达、滑台、UART等硬件，并实现UDP数据采集流程。"
   ]
  },
  {
   "cell_type": "code",
   "execution_count": null,
   "metadata": {},
   "outputs": [],
   "source": [
    "# 导入Python库\n",
    "import pynq\n",
    "from pynq import Overlay, MMIO\n",
    "import socket\n",
    "import time\n",
    "import numpy as np\n",
    "from pynq.lib import AxiGPIO\n",
    "# 假设用户自定义驱动如下\n",
    "# from your_ip import RadarController, MotorController, UartController, DMAController"
   ]
  },
  {
   "cell_type": "markdown",
   "metadata": {},
   "source": [
    "## 1. 加载比特流和初始化硬件"
   ]
  },
  {
   "cell_type": "code",
   "execution_count": null,
   "metadata": {},
   "outputs": [],
   "source": [
    "# 加载比特流\n",
    "overlay = Overlay('/home/xilinx/overlays/your_bitstream.bit')\n",
    "# 初始化控制器（假设用户已封装好Python类）\n",
    "# radar = RadarController(overlay)\n",
    "# motor = MotorController(overlay)\n",
    "# uart = UartController(overlay)\n",
    "# dma = DMAController(overlay)\n",
    "\n",
    "# 示例：GPIO控制\n",
    "# gpio = AxiGPIO(overlay.ip_dict['axi_gpio_0']['phys_addr'])\n",
    "# leds = gpio.channel1\n",
    "# leds.write(0x01)"
   ]
  },
  {
   "cell_type": "markdown",
   "metadata": {},
   "source": [
    "## 2. 设置UDP服务器参数（IP, 端口等）"
   ]
  },
  {
   "cell_type": "code",
   "execution_count": null,
   "metadata": {},
   "outputs": [],
   "source": [
    "UDP_IP = \"192.168.2.111\"  # PYNQ板卡IP\n",
    "UDP_PORT = 8888            # 监听端口\n",
    "BUFFER_SIZE = 4096         # 缓冲区大小\n",
    "udp_server = socket.socket(socket.AF_INET, socket.SOCK_DGRAM)\n",
    "udp_server.bind((UDP_IP, UDP_PORT))\n",
    "print(f\"Listening on {UDP_IP}:{UDP_PORT}\")"
   ]
  },
  {
   "cell_type": "markdown",
   "metadata": {},
   "source": [
    "## 3. UART控制雷达（发送启动/停止命令）"
   ]
  },
  {
   "cell_type": "code",
   "execution_count": null,
   "metadata": {},
   "outputs": [],
   "source": [
    "# 假设uart.write/send已实现\n",
    "def radar_uart_start(uart):\n",
    "    uart.write(b'sensorStart 0\\r\\n')\n",
    "    time.sleep(0.1)\n",
    "\n",
    "def radar_uart_stop(uart):\n",
    "    uart.write(b'sensorStop\\r\\n')\n",
    "    time.sleep(0.1)\n",
    "\n",
    "# 示例\n",
    "# radar_uart_start(uart)\n",
    "# radar_uart_stop(uart)"
   ]
  },
  {
   "cell_type": "markdown",
   "metadata": {},
   "source": [
    "## 4. 控制滑台运动"
   ]
  },
  {
   "cell_type": "code",
   "execution_count": null,
   "metadata": {},
   "outputs": [],
   "source": [
    "# 假设motor.move(dir, steps)已实现\n",
    "def slip2d_H_move(motor, direction, steps):\n",
    "    motor.move('H', direction, steps)\n",
    "\n",
    "def slip2d_V_move(motor, direction, steps):\n",
    "    motor.move('V', direction, steps)\n",
    "\n",
    "# 示例\n",
    "# slip2d_H_move(motor, dir=1, steps=100)\n",
    "# slip2d_V_move(motor, dir=0, steps=100)"
   ]
  },
  {
   "cell_type": "markdown",
   "metadata": {},
   "source": [
    "## 5. 数据采集与DMA传输"
   ]
  },
  {
   "cell_type": "code",
   "execution_count": null,
   "metadata": {},
   "outputs": [],
   "source": [
    "# 假设dma.read(buf, size)已实现\n",
    "def collect_radar_data(dma, length=2048):\n",
    "    buf = np.zeros(length, dtype=np.uint8)\n",
    "    dma.read(buf, length)\n",
    "    return buf\n",
    "# 示例\n",
    "# buf = collect_radar_data(dma)"
   ]
  },
  {
   "cell_type": "markdown",
   "metadata": {},
   "source": [
    "## 6. UDP循环服务与数据上传"
   ]
  },
  {
   "cell_type": "code",
   "execution_count": null,
   "metadata": {},
   "outputs": [],
   "source": [
    "try:\n",
    "    while True:\n",
    "        data, addr = udp_server.recvfrom(BUFFER_SIZE)\n",
    "        print(f\"Received command: {data} from {addr}\")\n",
    "        if data == b'start_collect':\n",
    "            # radar_uart_start(uart)  # 启动雷达\n",
    "            # slip2d_H_move(motor, 1, 24) # 控制滑台\n",
    "            # buf = collect_radar_data(dma)\n",
    "            # udp_server.sendto(buf.tobytes(), addr)  # 发送数据\n",
    "            print(\"[模拟] 启动雷达并发送采集数据\")\n",
    "            udp_server.sendto(b'data: ...', addr)\n",
    "        elif data == b'stop_collect':\n",
    "            # radar_uart_stop(uart)\n",
    "            print(\"[模拟] 停止采集\")\n",
    "            udp_server.sendto(b'stopped', addr)\n",
    "        else:\n",
    "            udp_server.sendto(b'Unknown command', addr)\n",
    "except KeyboardInterrupt:\n",
    "    print(\"Server stopped.\")\n",
    "finally:\n",
    "    udp_server.close()"
   ]
  }
 ],
 "metadata": {
  "kernelspec": {
   "display_name": "Python 3",
   "language": "python",
   "name": "python3"
  },
  "language_info": {
   "name": "python",
   "version": "3.6"
  }
 },
 "nbformat": 4,
 "nbformat_minor": 2
}