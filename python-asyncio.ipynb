{
  "metadata": {
    "language_info": {
      "codemirror_mode": {
        "name": "python",
        "version": 3
      },
      "file_extension": ".py",
      "mimetype": "text/x-python",
      "name": "python",
      "nbconvert_exporter": "python",
      "pygments_lexer": "ipython3",
      "version": "3.8"
    },
    "kernelspec": {
      "name": "python",
      "display_name": "Python (Pyodide)",
      "language": "python"
    }
  },
  "nbformat_minor": 4,
  "nbformat": 4,
  "cells": [
    {
      "cell_type": "markdown",
      "source": "# python asyncio 案例",
      "metadata": {
        "trusted": true
      }
    },
    {
      "cell_type": "markdown",
      "source": "## case 1:  协程函数和任务事件环\n### 1.1 通过async关键字定义一个协程（coroutine）,当然协程不能直接运行，需要将协程加入到事件循环loop中\n### 1.2 asyncio.get_event_loop：创建一个事件循环，然后使用run_until_complete将协程注册到事件循环，并启动事件循环\n### 1.3 协程对象不能直接运行，由asyncio的loop.run_until_complete启动.",
      "metadata": {
        "trusted": true
      }
    },
    {
      "cell_type": "code",
      "source": "import asyncio\nimport time\n\n# 我们通过async关键字定义一个协程,当然协程不能直接运行，需要将协程加入到事件循环loop中\nasync def do_some_work(x):\n    print(\"waiting:\", x)\n\nstart = time.time()\n\ncoroutine = do_some_work(2)\nloop = asyncio.get_event_loop()        # asyncio.get_event_loop：创建一个事件循环\n# 通过loop.create_task(coroutine)创建task,同样的可以通过 asyncio.ensure_future(coroutine)创建task\ntask = loop.create_task(coroutine)     # 创建任务, 不立即执行\nloop.run_until_complete(task)         # 使用run_until_complete将协程注册到事件循环，并启动事件循环\nprint(\"Time:\",time.time() - start)",
      "metadata": {
        "trusted": true
      },
      "execution_count": 1,
      "outputs": [
        {
          "name": "stdout",
          "text": "Time: 0.0009999275207519531\nwaiting: 2\n",
          "output_type": "stream"
        }
      ]
    },
    {
      "cell_type": "markdown",
      "source": "## case 2: 增加协程函数的返回值\n### case 1 说明async def的协程函数可以接受输入参数\n### case 2 将进一步设计async def的协程函数返回值",
      "metadata": {
        "trusted": true
      }
    },
    {
      "cell_type": "code",
      "source": "import asyncio\nimport time\n\n# 我们通过async关键字定义一个协程,当然协程不能直接运行，需要将协程加入到事件循环loop中\nasync def do_some_work(x):\n    print(\"waiting:\", x)\n    return \"Done after {}s\".format(x)\n\ndef callback(future):\n    print(\"callback:\",future.result())\n\nstart = time.time()\n\ncoroutine = do_some_work(2)\nloop = asyncio.get_event_loop()        # asyncio.get_event_loop：创建一个事件循环\n# 通过loop.create_task(coroutine)创建task,同样的可以通过 asyncio.ensure_future(coroutine)创建task\ntask = loop.create_task(coroutine)     # 创建任务, 不立即执行\n# task = asyncio.ensure_future(coroutine)\ntask.add_done_callback(callback)\n# 绑定回调，在task执行完成的时候可以获取执行的结果\nloop.run_until_complete(task)         # 使用run_until_complete将协程注册到事件循环，并启动事件循环\nprint(\"Time:\",time.time() - start)",
      "metadata": {
        "trusted": true
      },
      "execution_count": 2,
      "outputs": [
        {
          "name": "stdout",
          "text": "Time: 0.0009999275207519531\nwaiting: 2\ncallback: Done after 2s\n",
          "output_type": "stream"
        }
      ]
    },
    {
      "cell_type": "markdown",
      "source": "## case 3: 阻塞和await\n### async def的协程函数的重要价值是可以针对一些不确定发生的过程通过关键词await主动让出cpu时间",
      "metadata": {
        "trusted": true
      }
    },
    {
      "cell_type": "markdown",
      "source": "### 作为对比，先给出一个3过程顺序执行例",
      "metadata": {
        "trusted": true
      }
    },
    {
      "cell_type": "code",
      "source": "# 普通串行花费7秒\nimport time\ndef do_some_work(t):\n    time.sleep(t)\n    print('用了%s秒' % t)\n\nstart = time.time()\ncoroutine1 = do_some_work(1)\ncoroutine2 = do_some_work(2)\ncoroutine3 = do_some_work(4)\nprint(time.time()-start)",
      "metadata": {},
      "execution_count": null,
      "outputs": []
    },
    {
      "cell_type": "markdown",
      "source": "### 预期输出为\n用了1秒\n用了2秒\n用了4秒\n7.002151012420654\n注意：3个顺序执行，最后总的用时为7秒",
      "metadata": {
        "trusted": true
      }
    },
    {
      "cell_type": "markdown",
      "source": "### 以下为并发执行例",
      "metadata": {
        "trusted": true
      }
    },
    {
      "cell_type": "code",
      "source": "# 使用协程并发执行将只花费4秒\nimport asyncio\nimport time\n\nasync def do_some_work(x):\n    print(\"Waiting:\",x)\n    await asyncio.sleep(x)                   # 将耗时的sleep 标记为 await，这样会主动让出cpu时间\n    return \"Done after {}s\".format(x)\n\nstart = time.time()\n\ncoroutine1 = do_some_work(1)\ncoroutine2 = do_some_work(2)\ncoroutine3 = do_some_work(4)\n\ntasks = [\n    asyncio.ensure_future(coroutine1),       # task对象是Future类的子类，保存了协程运行后的状态，用于未来获取协程的结果\n    asyncio.ensure_future(coroutine2),       # 与case2的 task = loop.create_task(coroutine) \n    asyncio.ensure_future(coroutine3)        # 兼容\n]\n\nloop = asyncio.get_event_loop()\nloop.run_until_complete(asyncio.wait(tasks))  # \n\nfor task in tasks:\n    print(\"Task ret:\",task.result())\n\nprint(\"Time:\",time.time() - start)",
      "metadata": {},
      "execution_count": null,
      "outputs": []
    },
    {
      "cell_type": "markdown",
      "source": "### 预期输出为\n#### Waiting: 1\n#### Waiting: 2\n#### Waiting: 4\n#### Task ret: Done after 1s\n#### Task ret: Done after 2s\n#### Task ret: Done after 4s\n#### Time: 4.0038135051727295\n#### 注意：3个并行执行，最后总的用时为4秒",
      "metadata": {
        "trusted": true
      }
    },
    {
      "cell_type": "markdown",
      "source": "## case 4: 协程嵌套",
      "metadata": {}
    },
    {
      "cell_type": "markdown",
      "source": "### 4.1 形式1",
      "metadata": {}
    },
    {
      "cell_type": "code",
      "source": "import asyncio\nimport time\n\nasync def do_some_work(x):\n    print(\"waiting:\",x)\n    await asyncio.sleep(x)\n    return \"Done after {}s\".format(x)\n\nasync def main():\n    coroutine1 = do_some_work(1)\n    coroutine2 = do_some_work(2)\n    coroutine3 = do_some_work(4)\n    tasks = [\n        asyncio.ensure_future(coroutine1),\n        asyncio.ensure_future(coroutine2),\n        asyncio.ensure_future(coroutine3)\n    ]\n    return await asyncio.wait(tasks)\n\nstart = time.time()\n\nloop = asyncio.get_event_loop()\ndone,pending = loop.run_until_complete(main())\nfor task in done:\n    print(\"Task ret:\",task.result())\n\nprint(\"Time:\", time.time() - start)\n",
      "metadata": {},
      "execution_count": null,
      "outputs": []
    },
    {
      "cell_type": "markdown",
      "source": "### 4.1 形式2\n使用列表推导式简写",
      "metadata": {}
    },
    {
      "cell_type": "code",
      "source": "import time\nimport asyncio\n\nasync def job(t):            # 使用 async 关键字将一个函数定义为协程\n    await asyncio.sleep(t)   # 等待 t 秒, 期间切换执行其他任务\n    print('用了%s秒' % t)\n\nasync def main(loop):           # 使用 async 关键字将一个函数定义为协程\n    tasks = [loop.create_task(job(t)) for t in range(1,3)]  # 创建任务, 不立即执行\n    await asyncio.wait(tasks)   # 执行并等待所有任务完成\n\nstart = time.time()\nloop = asyncio.get_event_loop()      # 创建一个事件loop\nloop.run_until_complete(main(loop))  # 将事件加入到事件循环loop\nloop.close()                         # 关闭 loop\n\nprint(time.time()-start)\n",
      "metadata": {},
      "execution_count": null,
      "outputs": []
    }
  ]
}